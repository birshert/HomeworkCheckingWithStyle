{
 "cells": [
  {
   "cell_type": "code",
   "execution_count": 1,
   "id": "e6e25eee",
   "metadata": {
    "ExecuteTime": {
     "end_time": "2021-10-01T15:28:41.275838Z",
     "start_time": "2021-10-01T15:28:41.270502Z"
    }
   },
   "outputs": [],
   "source": [
    "from IPython.core.display import display\n",
    "from IPython.core.display import HTML"
   ]
  },
  {
   "cell_type": "code",
   "execution_count": 2,
   "id": "286103f8",
   "metadata": {
    "ExecuteTime": {
     "end_time": "2021-10-01T15:28:41.280337Z",
     "start_time": "2021-10-01T15:28:41.277017Z"
    }
   },
   "outputs": [],
   "source": [
    "def main(input_string):\n",
    "    line_mapper: dict[int, str] = {\n",
    "        0: 'Первая часть',\n",
    "        2: 'Вторая часть',\n",
    "        4: 'Бонус'\n",
    "    }\n",
    "\n",
    "    with open('output.txt', 'w') as f:\n",
    "        print('<b>Привет!</b><br>', file=f)\n",
    "\n",
    "        lines = input_string.strip().split('\\n')\n",
    "\n",
    "        for i, line in enumerate(lines[:-1]):\n",
    "            if i in line_mapper:\n",
    "                print('<br>', file=f)\n",
    "                print('<b>' + line_mapper[i] + '</b>', file=f)\n",
    "                print('<br><br>', file=f)\n",
    "\n",
    "            print(line + '<br>', file=f)\n",
    "\n",
    "        print('<br><b>Итог</b><br><br>', file=f)\n",
    "        print(lines[-1] + '<br>', file=f)"
   ]
  },
  {
   "cell_type": "code",
   "execution_count": 3,
   "id": "67f169fd",
   "metadata": {
    "ExecuteTime": {
     "end_time": "2021-10-01T15:28:41.287634Z",
     "start_time": "2021-10-01T15:28:41.281142Z"
    }
   },
   "outputs": [
    {
     "data": {
      "text/plain": [
       "'\\n1. Всё хорошо. <b>[1/1]</b>\\n2. Всё хорошо. <b>[2/2]</b>\\n3. Мне понравился код, хорошо сделала. <b>[1/1]</b>\\n4. Всё хорошо. <b>[1/1]</b>\\nБонус. Попытка была. <b>[0,5/1]</b>\\nБонус выставка. Вижу. <b>[0,5/0,5]</b>\\nБонус каомодзи. <b>[0/0,01]</b>\\nХорошая работа. <b>[6/6,51]</b>\\n'"
      ]
     },
     "execution_count": 3,
     "metadata": {},
     "output_type": "execute_result"
    }
   ],
   "source": [
    "\"\"\"\n",
    "1. Всё хорошо. <b>[1/1]</b>\n",
    "2. Всё хорошо. <b>[2/2]</b>\n",
    "3. Мне понравился код, хорошо сделала. <b>[1/1]</b>\n",
    "4. Всё хорошо. <b>[1/1]</b>\n",
    "Бонус. Попытка была. <b>[0,5/1]</b>\n",
    "Бонус выставка. Вижу. <b>[0,5/0,5]</b>\n",
    "Бонус каомодзи. <b>[0/0,01]</b>\n",
    "Хорошая работа. <b>[6/6,51]</b>\n",
    "\"\"\""
   ]
  },
  {
   "cell_type": "code",
   "execution_count": 4,
   "id": "506775d8",
   "metadata": {
    "ExecuteTime": {
     "end_time": "2021-10-01T15:28:41.291881Z",
     "start_time": "2021-10-01T15:28:41.289090Z"
    }
   },
   "outputs": [
    {
     "data": {
      "text/html": [
       "<b>Привет!</b><br>\n",
       "<br>\n",
       "<b>Первая часть</b>\n",
       "<br><br>\n",
       "1. Всё хорошо. <b>[1/1]</b><br>\n",
       "2. Всё хорошо. <b>[2/2]</b><br>\n",
       "<br>\n",
       "<b>Вторая часть</b>\n",
       "<br><br>\n",
       "3. Мне понравился код, хорошо сделала. <b>[1/1]</b><br>\n",
       "4. Всё хорошо. <b>[1/1]</b><br>\n",
       "<br>\n",
       "<b>Бонус</b>\n",
       "<br><br>\n",
       "Бонус. Попытка была. <b>[0,5/1]</b><br>\n",
       "Бонус выставка. Вижу. <b>[0,5/0,5]</b><br>\n",
       "Бонус каомодзи. <b>[0/0,01]</b><br>\n",
       "<br><b>Итог</b><br><br>\n",
       "Хорошая работа. <b>[6/6,51]</b><br>\n"
      ],
      "text/plain": [
       "<IPython.core.display.HTML object>"
      ]
     },
     "metadata": {},
     "output_type": "display_data"
    }
   ],
   "source": [
    "main(_)\n",
    "\n",
    "display(HTML(filename='output.txt'))"
   ]
  },
  {
   "cell_type": "code",
   "execution_count": null,
   "id": "c85bd860",
   "metadata": {},
   "outputs": [],
   "source": []
  }
 ],
 "metadata": {
  "kernelspec": {
   "display_name": "venv",
   "language": "python",
   "name": "python3"
  },
  "language_info": {
   "codemirror_mode": {
    "name": "ipython",
    "version": 3
   },
   "file_extension": ".py",
   "mimetype": "text/x-python",
   "name": "python",
   "nbconvert_exporter": "python",
   "pygments_lexer": "ipython3",
   "version": "3.9.7"
  }
 },
 "nbformat": 4,
 "nbformat_minor": 5
}